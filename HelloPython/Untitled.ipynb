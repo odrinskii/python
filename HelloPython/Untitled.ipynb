{
 "cells": [
  {
   "cell_type": "markdown",
   "id": "66297353",
   "metadata": {},
   "source": [
    "## global\n",
    "При вводе global внутри функции инициализация переменной распространяется на весь код. \n"
   ]
  },
  {
   "cell_type": "code",
   "execution_count": 1,
   "id": "20d1405a",
   "metadata": {},
   "outputs": [
    {
     "name": "stdout",
     "output_type": "stream",
     "text": [
      "0\n",
      "0\n"
     ]
    }
   ],
   "source": [
    "x = 0\n",
    "y = 0\n",
    "\n",
    "def init(a, b):\n",
    "    x = a\n",
    "    y = b\n",
    "\n",
    "init(11, 22)\n",
    "\n",
    "print(x)\n",
    "print(y)"
   ]
  },
  {
   "cell_type": "code",
   "execution_count": 2,
   "id": "6baa1fe4",
   "metadata": {},
   "outputs": [
    {
     "name": "stdout",
     "output_type": "stream",
     "text": [
      "11\n",
      "22\n"
     ]
    }
   ],
   "source": [
    "x = 0\n",
    "y = 0\n",
    "\n",
    "def init(a, b):\n",
    "    global x\n",
    "    global y\n",
    "    x = a\n",
    "    y = b\n",
    "\n",
    "init(11, 22)\n",
    "\n",
    "print(x)\n",
    "print(y)"
   ]
  },
  {
   "cell_type": "markdown",
   "id": "05160733",
   "metadata": {},
   "source": [
    "Без ввода global выводятся значения, заданные в начале. "
   ]
  },
  {
   "cell_type": "code",
   "execution_count": null,
   "id": "56c144bd",
   "metadata": {},
   "outputs": [],
   "source": []
  }
 ],
 "metadata": {
  "kernelspec": {
   "display_name": "Python 3 (ipykernel)",
   "language": "python",
   "name": "python3"
  },
  "language_info": {
   "codemirror_mode": {
    "name": "ipython",
    "version": 3
   },
   "file_extension": ".py",
   "mimetype": "text/x-python",
   "name": "python",
   "nbconvert_exporter": "python",
   "pygments_lexer": "ipython3",
   "version": "3.9.6"
  }
 },
 "nbformat": 4,
 "nbformat_minor": 5
}
