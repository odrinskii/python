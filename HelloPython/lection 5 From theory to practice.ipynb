{
 "cells": [
  {
   "cell_type": "markdown",
   "id": "6ed9fe75",
   "metadata": {},
   "source": [
    "## global\n",
    "При вводе global внутри функции инициализация переменной распространяется на весь код. \n"
   ]
  },
  {
   "cell_type": "code",
   "execution_count": 1,
   "id": "4d06f7a3",
   "metadata": {},
   "outputs": [
    {
     "name": "stdout",
     "output_type": "stream",
     "text": [
      "0\n",
      "0\n"
     ]
    }
   ],
   "source": [
    "x = 0\n",
    "y = 0\n",
    "\n",
    "def init(a, b):\n",
    "    x = a\n",
    "    y = b\n",
    "\n",
    "init(11, 22)\n",
    "\n",
    "print(x)\n",
    "print(y)"
   ]
  },
  {
   "cell_type": "code",
   "execution_count": 2,
   "id": "305ce9c0",
   "metadata": {},
   "outputs": [
    {
     "name": "stdout",
     "output_type": "stream",
     "text": [
      "11\n",
      "22\n"
     ]
    }
   ],
   "source": [
    "x = 0\n",
    "y = 0\n",
    "\n",
    "def init(a, b):\n",
    "    global x\n",
    "    global y\n",
    "    x = a\n",
    "    y = b\n",
    "\n",
    "init(11, 22)\n",
    "\n",
    "print(x)\n",
    "print(y)"
   ]
  },
  {
   "cell_type": "markdown",
   "id": "3ac864f9",
   "metadata": {},
   "source": [
    "Без ввода global выводятся значения, заданные в начале. "
   ]
  },
  {
   "cell_type": "markdown",
   "id": "89fd8a55",
   "metadata": {},
   "source": [
    "## Сложение двух чисел. Написать именно программу."
   ]
  },
  {
   "cell_type": "markdown",
   "id": "f85b15e4",
   "metadata": {},
   "source": [
    "Задача простая, но нужно ее расписать как самый настоящий проект. \n",
    "1) Разбиваем все этапы отдельно, т.е.:\n",
    "    * Пишем саму функцию сложения\n",
    "    * Пишем в отдельном файле использование методов из других файлов\n",
    "    * Пишем ввод данных также отдельным файлом\n",
    "2) Делаем файл main.py, где вызываем все модули"
   ]
  },
  {
   "cell_type": "markdown",
   "id": "67a1a216",
   "metadata": {},
   "source": [
    "Сделаем файлы model, view, controller, main\n",
    "main будет отвечать за запуск. "
   ]
  },
  {
   "cell_type": "markdown",
   "id": "12944b9b",
   "metadata": {},
   "source": [
    "Делается это для гибкости кода, гибкости программы. \n"
   ]
  },
  {
   "cell_type": "markdown",
   "id": "ffa51822",
   "metadata": {},
   "source": [
    "В данном случае после разделения на модуои мы можем делать модули на умножение, деления и т.д., при этом менять в структуре надо только один файл с методом подсчета. "
   ]
  },
  {
   "cell_type": "markdown",
   "id": "d0d5c669",
   "metadata": {},
   "source": [
    "26:35"
   ]
  },
  {
   "cell_type": "markdown",
   "id": "d3e026dd",
   "metadata": {},
   "source": [
    "## Идея: совместная разработка\n",
    "Система собирает информацию с датчиков, в ней есть\n",
    "модуль логирования, который заносит в журнал все\n",
    "обращения к датчикам.\n",
    "В системе есть модуль, выполняющий обращения для\n",
    "получения данных с датчиков и модуль генерации htmlпредставления.\n",
    "Запуск системы осуществляется из головного модуля."
   ]
  },
  {
   "cell_type": "markdown",
   "id": "db7b080f",
   "metadata": {},
   "source": [
    "* Модуль 1: сбор информации с датчиков\n",
    "* Модуль 2: логирование\n",
    "* Модуль 3: UI\n",
    "* Модуль 4: HTML-генератор\n",
    "* Модуль 5: главный модуль"
   ]
  },
  {
   "cell_type": "markdown",
   "id": "9260a7a7",
   "metadata": {},
   "source": [
    "Модуль 1"
   ]
  },
  {
   "cell_type": "code",
   "execution_count": null,
   "id": "b6a264d9",
   "metadata": {},
   "outputs": [],
   "source": [
    "from random import randint\n",
    "def get_temperature(sensor):\n",
    "    return randint(-20, 0) if sensor else randint(0, 20)\n",
    "\n",
    "def get_pre(sensor):\n",
    "    if sensor:\n",
    "        return  randint(720, 750)\n",
    "    else:\n",
    "        return randint(750, 770)\n",
    "\n",
    "def get_wind_speed(sensor)\n",
    "    if sensor == 1:\n",
    "        return randint(0, 30)\n",
    "    else:\n",
    "        return randint(30, 50)"
   ]
  },
  {
   "cell_type": "markdown",
   "id": "bb576629",
   "metadata": {},
   "source": [
    "Если работаем с логами, то всегда делаем import datetime"
   ]
  },
  {
   "cell_type": "markdown",
   "id": "0f4d132b",
   "metadata": {},
   "source": [
    "модуль 2"
   ]
  },
  {
   "cell_type": "code",
   "execution_count": 4,
   "id": "362848c9",
   "metadata": {},
   "outputs": [],
   "source": [
    "from datetime import datetime as dt\n",
    "\n",
    "def temperature_logger(data):\n",
    "    time = dt.now().strftime('%H:%M')\n",
    "    with open('log.csv', 'a') as file:\n",
    "        file.write('{};temperature;{}'\n",
    "                   .format(time))\n",
    "\n",
    "\n",
    "def pressure_logger(data):\n",
    "    time = dt.now().strftime('%H:%M')\n",
    "    with open('log.csv', 'a') as file:\n",
    "        file.write('{};pressure;{}'\n",
    "                   .format(time))\n",
    "\n",
    "def wind_speed(data):\n",
    "    time = dt.now().strftime('%H:%M')\n",
    "    with open('log.csv', 'a') as file:\n",
    "        file.write('{};wind_speed;{}'\n",
    "                   .format(time))\n"
   ]
  },
  {
   "cell_type": "markdown",
   "id": "9e1092da",
   "metadata": {},
   "source": [
    "Модуль 3 - Запись"
   ]
  },
  {
   "cell_type": "code",
   "execution_count": null,
   "id": "2d314b90",
   "metadata": {},
   "outputs": [],
   "source": [
    "import data_provider as prov\n",
    "import logger as log\n",
    "\n",
    "def temperature_view(sensor):\n",
    "    data = prov.get_temperature(sensor)\n",
    "    log.temperature_logger(data)\n",
    "    return data\n",
    "\n",
    "def pressure_view(sensor):\n",
    "    data = prov.get_pressure(sensor)\n",
    "    log.pressure_logger(data)\n",
    "    return data\n",
    "\n",
    "def wind_speed_view(sensor):\n",
    "    data = prov.get_wind_speed(sensor)\n",
    "    log.wind_speed_logger(data)\n",
    "    return data"
   ]
  }
 ],
 "metadata": {
  "kernelspec": {
   "display_name": "Python 3 (ipykernel)",
   "language": "python",
   "name": "python3"
  },
  "language_info": {
   "codemirror_mode": {
    "name": "ipython",
    "version": 3
   },
   "file_extension": ".py",
   "mimetype": "text/x-python",
   "name": "python",
   "nbconvert_exporter": "python",
   "pygments_lexer": "ipython3",
   "version": "3.9.6"
  }
 },
 "nbformat": 4,
 "nbformat_minor": 5
}
